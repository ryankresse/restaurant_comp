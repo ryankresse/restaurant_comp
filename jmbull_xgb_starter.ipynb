{
 "cells": [
  {
   "cell_type": "markdown",
   "metadata": {
    "_cell_guid": "1a78824a-eb9e-4e07-a398-70c966c2df2f",
    "_uuid": "4685d5fa2470c7cb2d8b9b45809835ae9b6ccd91"
   },
   "source": [
    "Just a simple XGB starter. Huge thanks to @the1owl for [the kernel](https://www.kaggle.com/the1owl/surprise-me/code) with all of the data wrangling."
   ]
  },
  {
   "cell_type": "code",
   "execution_count": 439,
   "metadata": {
    "collapsed": false
   },
   "outputs": [
    {
     "name": "stdout",
     "output_type": "stream",
     "text": [
      "The autoreload extension is already loaded. To reload it, use:\n",
      "  %reload_ext autoreload\n"
     ]
    }
   ],
   "source": [
    "import torch\n",
    "from torch import optim, nn, FloatTensor as FT\n",
    "import torch.nn.parallel\n",
    "import torch.utils.data\n",
    "import torch.nn.functional as F\n",
    "from torch.backends import cudnn\n",
    "from torchvision import datasets, transforms, utils as vutils\n",
    "from torch.autograd import Variable\n",
    "from models import EmbedModel, ContModel, RegModel\n",
    "from sklearn.preprocessing import LabelEncoder, StandardScaler\n",
    "import numpy as np\n",
    "import pandas as pd\n",
    "from sklearn import *\n",
    "from datetime import datetime\n",
    "import pdb\n",
    "#import xgboost as xgb NEED TO INSTALL\n",
    "import gc\n",
    "from sklearn_pandas import DataFrameMapper\n",
    "SEED = 123\n",
    "np.random.seed(SEED)\n",
    "%matplotlib inline\n",
    "%load_ext autoreload\n",
    "%autoreload 2\n"
   ]
  },
  {
   "cell_type": "code",
   "execution_count": 440,
   "metadata": {
    "collapsed": true
   },
   "outputs": [],
   "source": [
    "# Data wrangling brought to you by the1owl\n",
    "# https://www.kaggle.com/the1owl/surprise-me\n",
    "\n",
    "data = {\n",
    "    'tra': pd.read_csv('input/air_visit_data.csv'),\n",
    "    'as': pd.read_csv('input/air_store_info.csv'),\n",
    "    'hs': pd.read_csv('input/hpg_store_info.csv'),\n",
    "    'ar': pd.read_csv('input/air_reserve.csv'),\n",
    "    'hr': pd.read_csv('input/hpg_reserve.csv'),\n",
    "    'id': pd.read_csv('input/store_id_relation.csv'),\n",
    "    'tes': pd.read_csv('input/sample_submission.csv'),\n",
    "    'hol': pd.read_csv('input/date_info.csv').rename(columns={'calendar_date':'visit_date'})\n",
    "    }\n"
   ]
  },
  {
   "cell_type": "code",
   "execution_count": 441,
   "metadata": {
    "collapsed": true
   },
   "outputs": [],
   "source": [
    "data['hr'] = pd.merge(data['hr'], data['id'], how='inner', on=['hpg_store_id'])"
   ]
  },
  {
   "cell_type": "code",
   "execution_count": 442,
   "metadata": {
    "collapsed": false
   },
   "outputs": [
    {
     "data": {
      "text/html": [
       "<div>\n",
       "<style scoped>\n",
       "    .dataframe tbody tr th:only-of-type {\n",
       "        vertical-align: middle;\n",
       "    }\n",
       "\n",
       "    .dataframe tbody tr th {\n",
       "        vertical-align: top;\n",
       "    }\n",
       "\n",
       "    .dataframe thead th {\n",
       "        text-align: right;\n",
       "    }\n",
       "</style>\n",
       "<table border=\"1\" class=\"dataframe\">\n",
       "  <thead>\n",
       "    <tr style=\"text-align: right;\">\n",
       "      <th></th>\n",
       "      <th>hpg_store_id</th>\n",
       "      <th>visit_datetime</th>\n",
       "      <th>reserve_datetime</th>\n",
       "      <th>reserve_visitors</th>\n",
       "      <th>air_store_id</th>\n",
       "    </tr>\n",
       "  </thead>\n",
       "  <tbody>\n",
       "    <tr>\n",
       "      <th>0</th>\n",
       "      <td>hpg_878cc70b1abc76f7</td>\n",
       "      <td>2016-01-01 19:00:00</td>\n",
       "      <td>2016-01-01 15:00:00</td>\n",
       "      <td>4</td>\n",
       "      <td>air_db80363d35f10926</td>\n",
       "    </tr>\n",
       "    <tr>\n",
       "      <th>1</th>\n",
       "      <td>hpg_878cc70b1abc76f7</td>\n",
       "      <td>2016-01-02 19:00:00</td>\n",
       "      <td>2016-01-02 14:00:00</td>\n",
       "      <td>2</td>\n",
       "      <td>air_db80363d35f10926</td>\n",
       "    </tr>\n",
       "    <tr>\n",
       "      <th>2</th>\n",
       "      <td>hpg_878cc70b1abc76f7</td>\n",
       "      <td>2016-01-03 18:00:00</td>\n",
       "      <td>2016-01-02 20:00:00</td>\n",
       "      <td>6</td>\n",
       "      <td>air_db80363d35f10926</td>\n",
       "    </tr>\n",
       "    <tr>\n",
       "      <th>3</th>\n",
       "      <td>hpg_878cc70b1abc76f7</td>\n",
       "      <td>2016-01-06 20:00:00</td>\n",
       "      <td>2016-01-04 22:00:00</td>\n",
       "      <td>3</td>\n",
       "      <td>air_db80363d35f10926</td>\n",
       "    </tr>\n",
       "    <tr>\n",
       "      <th>4</th>\n",
       "      <td>hpg_878cc70b1abc76f7</td>\n",
       "      <td>2016-01-11 18:00:00</td>\n",
       "      <td>2016-01-11 14:00:00</td>\n",
       "      <td>2</td>\n",
       "      <td>air_db80363d35f10926</td>\n",
       "    </tr>\n",
       "  </tbody>\n",
       "</table>\n",
       "</div>"
      ],
      "text/plain": [
       "           hpg_store_id       visit_datetime     reserve_datetime  \\\n",
       "0  hpg_878cc70b1abc76f7  2016-01-01 19:00:00  2016-01-01 15:00:00   \n",
       "1  hpg_878cc70b1abc76f7  2016-01-02 19:00:00  2016-01-02 14:00:00   \n",
       "2  hpg_878cc70b1abc76f7  2016-01-03 18:00:00  2016-01-02 20:00:00   \n",
       "3  hpg_878cc70b1abc76f7  2016-01-06 20:00:00  2016-01-04 22:00:00   \n",
       "4  hpg_878cc70b1abc76f7  2016-01-11 18:00:00  2016-01-11 14:00:00   \n",
       "\n",
       "   reserve_visitors          air_store_id  \n",
       "0                 4  air_db80363d35f10926  \n",
       "1                 2  air_db80363d35f10926  \n",
       "2                 6  air_db80363d35f10926  \n",
       "3                 3  air_db80363d35f10926  \n",
       "4                 2  air_db80363d35f10926  "
      ]
     },
     "execution_count": 442,
     "metadata": {},
     "output_type": "execute_result"
    }
   ],
   "source": [
    "data['hr'].head()"
   ]
  },
  {
   "cell_type": "code",
   "execution_count": 443,
   "metadata": {
    "collapsed": false
   },
   "outputs": [
    {
     "name": "stdout",
     "output_type": "stream",
     "text": [
      "           air_store_id  visit_date  reserve_datetime_diff  reserve_visitors\n",
      "0  air_00a91d42b08b08d9  2016-10-31                      0                 2\n",
      "1  air_00a91d42b08b08d9  2016-12-05                      4                 9\n",
      "2  air_00a91d42b08b08d9  2016-12-14                      6                18\n",
      "3  air_00a91d42b08b08d9  2016-12-17                      6                 2\n",
      "4  air_00a91d42b08b08d9  2016-12-20                      2                 4\n",
      "           air_store_id  visit_date  reserve_datetime_diff  reserve_visitors\n",
      "0  air_00a91d42b08b08d9  2016-01-14                      3                 2\n",
      "1  air_00a91d42b08b08d9  2016-01-15                      6                 4\n",
      "2  air_00a91d42b08b08d9  2016-01-16                      3                 2\n",
      "3  air_00a91d42b08b08d9  2016-01-22                      3                 2\n",
      "4  air_00a91d42b08b08d9  2016-01-29                      6                 5\n"
     ]
    }
   ],
   "source": [
    "#AGGREGATE RESERVATION DATA ACROSS STORE/DATE COMBINATIONS\n",
    "for df in ['ar','hr']:\n",
    "    data[df]['visit_datetime'] = pd.to_datetime(data[df]['visit_datetime'])\n",
    "    data[df]['visit_datetime'] = data[df]['visit_datetime'].dt.date\n",
    "    data[df]['reserve_datetime'] = pd.to_datetime(data[df]['reserve_datetime'])\n",
    "    data[df]['reserve_datetime'] = data[df]['reserve_datetime'].dt.date\n",
    "    data[df]['reserve_datetime_diff'] = data[df].apply(lambda r: (r['visit_datetime'] - r['reserve_datetime']).days, axis=1)\n",
    "    data[df] = data[df].groupby(['air_store_id','visit_datetime'], as_index=False)[['reserve_datetime_diff', 'reserve_visitors']].sum().rename(columns={'visit_datetime':'visit_date'})\n",
    "    print(data[df].head())\n"
   ]
  },
  {
   "cell_type": "code",
   "execution_count": 444,
   "metadata": {
    "collapsed": false
   },
   "outputs": [
    {
     "data": {
      "text/html": [
       "<div>\n",
       "<style scoped>\n",
       "    .dataframe tbody tr th:only-of-type {\n",
       "        vertical-align: middle;\n",
       "    }\n",
       "\n",
       "    .dataframe tbody tr th {\n",
       "        vertical-align: top;\n",
       "    }\n",
       "\n",
       "    .dataframe thead th {\n",
       "        text-align: right;\n",
       "    }\n",
       "</style>\n",
       "<table border=\"1\" class=\"dataframe\">\n",
       "  <thead>\n",
       "    <tr style=\"text-align: right;\">\n",
       "      <th></th>\n",
       "      <th>air_store_id</th>\n",
       "      <th>visit_date</th>\n",
       "      <th>visitors</th>\n",
       "    </tr>\n",
       "  </thead>\n",
       "  <tbody>\n",
       "    <tr>\n",
       "      <th>0</th>\n",
       "      <td>air_ba937bf13d40fb24</td>\n",
       "      <td>2016-01-13</td>\n",
       "      <td>25</td>\n",
       "    </tr>\n",
       "    <tr>\n",
       "      <th>1</th>\n",
       "      <td>air_ba937bf13d40fb24</td>\n",
       "      <td>2016-01-14</td>\n",
       "      <td>32</td>\n",
       "    </tr>\n",
       "    <tr>\n",
       "      <th>2</th>\n",
       "      <td>air_ba937bf13d40fb24</td>\n",
       "      <td>2016-01-15</td>\n",
       "      <td>29</td>\n",
       "    </tr>\n",
       "    <tr>\n",
       "      <th>3</th>\n",
       "      <td>air_ba937bf13d40fb24</td>\n",
       "      <td>2016-01-16</td>\n",
       "      <td>22</td>\n",
       "    </tr>\n",
       "    <tr>\n",
       "      <th>4</th>\n",
       "      <td>air_ba937bf13d40fb24</td>\n",
       "      <td>2016-01-18</td>\n",
       "      <td>6</td>\n",
       "    </tr>\n",
       "  </tbody>\n",
       "</table>\n",
       "</div>"
      ],
      "text/plain": [
       "           air_store_id  visit_date  visitors\n",
       "0  air_ba937bf13d40fb24  2016-01-13        25\n",
       "1  air_ba937bf13d40fb24  2016-01-14        32\n",
       "2  air_ba937bf13d40fb24  2016-01-15        29\n",
       "3  air_ba937bf13d40fb24  2016-01-16        22\n",
       "4  air_ba937bf13d40fb24  2016-01-18         6"
      ]
     },
     "execution_count": 444,
     "metadata": {},
     "output_type": "execute_result"
    }
   ],
   "source": [
    "data['tra'].head()"
   ]
  },
  {
   "cell_type": "code",
   "execution_count": 445,
   "metadata": {
    "collapsed": false
   },
   "outputs": [
    {
     "data": {
      "text/html": [
       "<div>\n",
       "<style scoped>\n",
       "    .dataframe tbody tr th:only-of-type {\n",
       "        vertical-align: middle;\n",
       "    }\n",
       "\n",
       "    .dataframe tbody tr th {\n",
       "        vertical-align: top;\n",
       "    }\n",
       "\n",
       "    .dataframe thead th {\n",
       "        text-align: right;\n",
       "    }\n",
       "</style>\n",
       "<table border=\"1\" class=\"dataframe\">\n",
       "  <thead>\n",
       "    <tr style=\"text-align: right;\">\n",
       "      <th></th>\n",
       "      <th>id</th>\n",
       "      <th>visitors</th>\n",
       "    </tr>\n",
       "  </thead>\n",
       "  <tbody>\n",
       "    <tr>\n",
       "      <th>0</th>\n",
       "      <td>air_00a91d42b08b08d9_2017-04-23</td>\n",
       "      <td>0</td>\n",
       "    </tr>\n",
       "    <tr>\n",
       "      <th>1</th>\n",
       "      <td>air_00a91d42b08b08d9_2017-04-24</td>\n",
       "      <td>0</td>\n",
       "    </tr>\n",
       "    <tr>\n",
       "      <th>2</th>\n",
       "      <td>air_00a91d42b08b08d9_2017-04-25</td>\n",
       "      <td>0</td>\n",
       "    </tr>\n",
       "    <tr>\n",
       "      <th>3</th>\n",
       "      <td>air_00a91d42b08b08d9_2017-04-26</td>\n",
       "      <td>0</td>\n",
       "    </tr>\n",
       "    <tr>\n",
       "      <th>4</th>\n",
       "      <td>air_00a91d42b08b08d9_2017-04-27</td>\n",
       "      <td>0</td>\n",
       "    </tr>\n",
       "  </tbody>\n",
       "</table>\n",
       "</div>"
      ],
      "text/plain": [
       "                                id  visitors\n",
       "0  air_00a91d42b08b08d9_2017-04-23         0\n",
       "1  air_00a91d42b08b08d9_2017-04-24         0\n",
       "2  air_00a91d42b08b08d9_2017-04-25         0\n",
       "3  air_00a91d42b08b08d9_2017-04-26         0\n",
       "4  air_00a91d42b08b08d9_2017-04-27         0"
      ]
     },
     "execution_count": 445,
     "metadata": {},
     "output_type": "execute_result"
    }
   ],
   "source": [
    "data['tes'].head()"
   ]
  },
  {
   "cell_type": "code",
   "execution_count": 446,
   "metadata": {
    "collapsed": true
   },
   "outputs": [],
   "source": [
    "#DATE PARSING AND SPLITTING OF ID IN TEST SET\n",
    "data['tra']['visit_date'] = pd.to_datetime(data['tra']['visit_date'])\n",
    "data['tra']['dow'] = data['tra']['visit_date'].dt.dayofweek\n",
    "data['tra']['year'] = data['tra']['visit_date'].dt.year\n",
    "data['tra']['month'] = data['tra']['visit_date'].dt.month -1 #-1 so embeddings work \n",
    "data['tra']['visit_date'] = data['tra']['visit_date'].dt.date\n",
    "\n",
    "data['tes']['visit_date'] = data['tes']['id'].map(lambda x: str(x).split('_')[2])\n",
    "data['tes']['air_store_id'] = data['tes']['id'].map(lambda x: '_'.join(x.split('_')[:2]))\n",
    "data['tes']['visit_date'] = pd.to_datetime(data['tes']['visit_date'])\n",
    "data['tes']['dow'] = data['tes']['visit_date'].dt.dayofweek\n",
    "data['tes']['year'] = data['tes']['visit_date'].dt.year\n",
    "data['tes']['month'] = data['tes']['visit_date'].dt.month -1\n",
    "data['tes']['visit_date'] = data['tes']['visit_date'].dt.date\n"
   ]
  },
  {
   "cell_type": "code",
   "execution_count": 447,
   "metadata": {
    "collapsed": true
   },
   "outputs": [],
   "source": [
    "#CREATE UNIQUE STORES/DOW COMBOS\n",
    "unique_stores = data['tes']['air_store_id'].unique() #821 unique stores\n",
    "stores = pd.concat([pd.DataFrame({'air_store_id': unique_stores, 'dow': [i]*len(unique_stores)}) for i in range(7)], axis=0, ignore_index=True).reset_index(drop=True)"
   ]
  },
  {
   "cell_type": "code",
   "execution_count": 448,
   "metadata": {
    "collapsed": false
   },
   "outputs": [
    {
     "data": {
      "text/html": [
       "<div>\n",
       "<style scoped>\n",
       "    .dataframe tbody tr th:only-of-type {\n",
       "        vertical-align: middle;\n",
       "    }\n",
       "\n",
       "    .dataframe tbody tr th {\n",
       "        vertical-align: top;\n",
       "    }\n",
       "\n",
       "    .dataframe thead th {\n",
       "        text-align: right;\n",
       "    }\n",
       "</style>\n",
       "<table border=\"1\" class=\"dataframe\">\n",
       "  <thead>\n",
       "    <tr style=\"text-align: right;\">\n",
       "      <th></th>\n",
       "      <th>air_store_id</th>\n",
       "      <th>dow</th>\n",
       "    </tr>\n",
       "  </thead>\n",
       "  <tbody>\n",
       "    <tr>\n",
       "      <th>0</th>\n",
       "      <td>air_00a91d42b08b08d9</td>\n",
       "      <td>0</td>\n",
       "    </tr>\n",
       "    <tr>\n",
       "      <th>1</th>\n",
       "      <td>air_0164b9927d20bcc3</td>\n",
       "      <td>0</td>\n",
       "    </tr>\n",
       "    <tr>\n",
       "      <th>2</th>\n",
       "      <td>air_0241aa3964b7f861</td>\n",
       "      <td>0</td>\n",
       "    </tr>\n",
       "    <tr>\n",
       "      <th>3</th>\n",
       "      <td>air_0328696196e46f18</td>\n",
       "      <td>0</td>\n",
       "    </tr>\n",
       "    <tr>\n",
       "      <th>4</th>\n",
       "      <td>air_034a3d5b40d5b1b1</td>\n",
       "      <td>0</td>\n",
       "    </tr>\n",
       "  </tbody>\n",
       "</table>\n",
       "</div>"
      ],
      "text/plain": [
       "           air_store_id  dow\n",
       "0  air_00a91d42b08b08d9    0\n",
       "1  air_0164b9927d20bcc3    0\n",
       "2  air_0241aa3964b7f861    0\n",
       "3  air_0328696196e46f18    0\n",
       "4  air_034a3d5b40d5b1b1    0"
      ]
     },
     "execution_count": 448,
     "metadata": {},
     "output_type": "execute_result"
    }
   ],
   "source": [
    "stores.head()"
   ]
  },
  {
   "cell_type": "code",
   "execution_count": 449,
   "metadata": {
    "collapsed": true
   },
   "outputs": [],
   "source": [
    "#AGGREGATE INFO ACROSS STORE/DOW COMBOS\n",
    "tmp = data['tra'].groupby(['air_store_id','dow'], as_index=False)['visitors'].min().rename(columns={'visitors':'min_visitors'})\n",
    "stores = pd.merge(stores, tmp, how='left', on=['air_store_id','dow']) \n",
    "tmp = data['tra'].groupby(['air_store_id','dow'], as_index=False)['visitors'].mean().rename(columns={'visitors':'mean_visitors'})\n",
    "stores = pd.merge(stores, tmp, how='left', on=['air_store_id','dow'])\n",
    "tmp = data['tra'].groupby(['air_store_id','dow'], as_index=False)['visitors'].median().rename(columns={'visitors':'median_visitors'})\n",
    "stores = pd.merge(stores, tmp, how='left', on=['air_store_id','dow'])\n",
    "tmp = data['tra'].groupby(['air_store_id','dow'], as_index=False)['visitors'].max().rename(columns={'visitors':'max_visitors'})\n",
    "stores = pd.merge(stores, tmp, how='left', on=['air_store_id','dow'])\n",
    "tmp = data['tra'].groupby(['air_store_id','dow'], as_index=False)['visitors'].count().rename(columns={'visitors':'count_observations'})\n",
    "stores = pd.merge(stores, tmp, how='left', on=['air_store_id','dow']) \n"
   ]
  },
  {
   "cell_type": "code",
   "execution_count": 450,
   "metadata": {
    "collapsed": false
   },
   "outputs": [
    {
     "data": {
      "text/html": [
       "<div>\n",
       "<style scoped>\n",
       "    .dataframe tbody tr th:only-of-type {\n",
       "        vertical-align: middle;\n",
       "    }\n",
       "\n",
       "    .dataframe tbody tr th {\n",
       "        vertical-align: top;\n",
       "    }\n",
       "\n",
       "    .dataframe thead th {\n",
       "        text-align: right;\n",
       "    }\n",
       "</style>\n",
       "<table border=\"1\" class=\"dataframe\">\n",
       "  <thead>\n",
       "    <tr style=\"text-align: right;\">\n",
       "      <th></th>\n",
       "      <th>air_store_id</th>\n",
       "      <th>air_genre_name</th>\n",
       "      <th>air_area_name</th>\n",
       "      <th>latitude</th>\n",
       "      <th>longitude</th>\n",
       "    </tr>\n",
       "  </thead>\n",
       "  <tbody>\n",
       "    <tr>\n",
       "      <th>0</th>\n",
       "      <td>air_0f0cdeee6c9bf3d7</td>\n",
       "      <td>Italian/French</td>\n",
       "      <td>Hyōgo-ken Kōbe-shi Kumoidōri</td>\n",
       "      <td>34.695124</td>\n",
       "      <td>135.197852</td>\n",
       "    </tr>\n",
       "    <tr>\n",
       "      <th>1</th>\n",
       "      <td>air_7cc17a324ae5c7dc</td>\n",
       "      <td>Italian/French</td>\n",
       "      <td>Hyōgo-ken Kōbe-shi Kumoidōri</td>\n",
       "      <td>34.695124</td>\n",
       "      <td>135.197852</td>\n",
       "    </tr>\n",
       "    <tr>\n",
       "      <th>2</th>\n",
       "      <td>air_fee8dcf4d619598e</td>\n",
       "      <td>Italian/French</td>\n",
       "      <td>Hyōgo-ken Kōbe-shi Kumoidōri</td>\n",
       "      <td>34.695124</td>\n",
       "      <td>135.197852</td>\n",
       "    </tr>\n",
       "    <tr>\n",
       "      <th>3</th>\n",
       "      <td>air_a17f0778617c76e2</td>\n",
       "      <td>Italian/French</td>\n",
       "      <td>Hyōgo-ken Kōbe-shi Kumoidōri</td>\n",
       "      <td>34.695124</td>\n",
       "      <td>135.197852</td>\n",
       "    </tr>\n",
       "    <tr>\n",
       "      <th>4</th>\n",
       "      <td>air_83db5aff8f50478e</td>\n",
       "      <td>Italian/French</td>\n",
       "      <td>Tōkyō-to Minato-ku Shibakōen</td>\n",
       "      <td>35.658068</td>\n",
       "      <td>139.751599</td>\n",
       "    </tr>\n",
       "  </tbody>\n",
       "</table>\n",
       "</div>"
      ],
      "text/plain": [
       "           air_store_id  air_genre_name                 air_area_name  \\\n",
       "0  air_0f0cdeee6c9bf3d7  Italian/French  Hyōgo-ken Kōbe-shi Kumoidōri   \n",
       "1  air_7cc17a324ae5c7dc  Italian/French  Hyōgo-ken Kōbe-shi Kumoidōri   \n",
       "2  air_fee8dcf4d619598e  Italian/French  Hyōgo-ken Kōbe-shi Kumoidōri   \n",
       "3  air_a17f0778617c76e2  Italian/French  Hyōgo-ken Kōbe-shi Kumoidōri   \n",
       "4  air_83db5aff8f50478e  Italian/French  Tōkyō-to Minato-ku Shibakōen   \n",
       "\n",
       "    latitude   longitude  \n",
       "0  34.695124  135.197852  \n",
       "1  34.695124  135.197852  \n",
       "2  34.695124  135.197852  \n",
       "3  34.695124  135.197852  \n",
       "4  35.658068  139.751599  "
      ]
     },
     "execution_count": 450,
     "metadata": {},
     "output_type": "execute_result"
    }
   ],
   "source": [
    "data['as'].head()"
   ]
  },
  {
   "cell_type": "code",
   "execution_count": 451,
   "metadata": {
    "collapsed": false
   },
   "outputs": [
    {
     "data": {
      "text/html": [
       "<div>\n",
       "<style scoped>\n",
       "    .dataframe tbody tr th:only-of-type {\n",
       "        vertical-align: middle;\n",
       "    }\n",
       "\n",
       "    .dataframe tbody tr th {\n",
       "        vertical-align: top;\n",
       "    }\n",
       "\n",
       "    .dataframe thead th {\n",
       "        text-align: right;\n",
       "    }\n",
       "</style>\n",
       "<table border=\"1\" class=\"dataframe\">\n",
       "  <thead>\n",
       "    <tr style=\"text-align: right;\">\n",
       "      <th></th>\n",
       "      <th>visit_date</th>\n",
       "      <th>day_of_week</th>\n",
       "      <th>holiday_flg</th>\n",
       "    </tr>\n",
       "  </thead>\n",
       "  <tbody>\n",
       "    <tr>\n",
       "      <th>0</th>\n",
       "      <td>2016-01-01</td>\n",
       "      <td>Friday</td>\n",
       "      <td>1</td>\n",
       "    </tr>\n",
       "    <tr>\n",
       "      <th>1</th>\n",
       "      <td>2016-01-02</td>\n",
       "      <td>Saturday</td>\n",
       "      <td>1</td>\n",
       "    </tr>\n",
       "    <tr>\n",
       "      <th>2</th>\n",
       "      <td>2016-01-03</td>\n",
       "      <td>Sunday</td>\n",
       "      <td>1</td>\n",
       "    </tr>\n",
       "    <tr>\n",
       "      <th>3</th>\n",
       "      <td>2016-01-04</td>\n",
       "      <td>Monday</td>\n",
       "      <td>0</td>\n",
       "    </tr>\n",
       "    <tr>\n",
       "      <th>4</th>\n",
       "      <td>2016-01-05</td>\n",
       "      <td>Tuesday</td>\n",
       "      <td>0</td>\n",
       "    </tr>\n",
       "  </tbody>\n",
       "</table>\n",
       "</div>"
      ],
      "text/plain": [
       "   visit_date day_of_week  holiday_flg\n",
       "0  2016-01-01      Friday            1\n",
       "1  2016-01-02    Saturday            1\n",
       "2  2016-01-03      Sunday            1\n",
       "3  2016-01-04      Monday            0\n",
       "4  2016-01-05     Tuesday            0"
      ]
     },
     "execution_count": 451,
     "metadata": {},
     "output_type": "execute_result"
    }
   ],
   "source": [
    "data['hol'].head()"
   ]
  },
  {
   "cell_type": "code",
   "execution_count": 452,
   "metadata": {
    "collapsed": false
   },
   "outputs": [
    {
     "data": {
      "text/plain": [
       "(14, 103)"
      ]
     },
     "execution_count": 452,
     "metadata": {},
     "output_type": "execute_result"
    }
   ],
   "source": [
    "#Label Encode Genre/Area\n",
    "stores = pd.merge(stores, data['as'], how='left', on=['air_store_id']) \n",
    "lbl_gen = preprocessing.LabelEncoder()\n",
    "lbl_area = preprocessing.LabelEncoder()\n",
    "stores['air_genre_name'] = lbl_gen.fit_transform(stores['air_genre_name']) + 1 #so we can fill missing with 0\n",
    "stores['air_area_name'] = lbl_area.fit_transform(stores['air_area_name']) + 1 #so we can fill missing with 0\n",
    "stores.air_genre_name.nunique(), stores.air_area_name.nunique()"
   ]
  },
  {
   "cell_type": "code",
   "execution_count": 453,
   "metadata": {
    "collapsed": false
   },
   "outputs": [
    {
     "data": {
      "text/html": [
       "<div>\n",
       "<style scoped>\n",
       "    .dataframe tbody tr th:only-of-type {\n",
       "        vertical-align: middle;\n",
       "    }\n",
       "\n",
       "    .dataframe tbody tr th {\n",
       "        vertical-align: top;\n",
       "    }\n",
       "\n",
       "    .dataframe thead th {\n",
       "        text-align: right;\n",
       "    }\n",
       "</style>\n",
       "<table border=\"1\" class=\"dataframe\">\n",
       "  <thead>\n",
       "    <tr style=\"text-align: right;\">\n",
       "      <th></th>\n",
       "      <th>air_store_id</th>\n",
       "      <th>visit_date</th>\n",
       "      <th>reserve_datetime_diff</th>\n",
       "      <th>reserve_visitors</th>\n",
       "    </tr>\n",
       "  </thead>\n",
       "  <tbody>\n",
       "    <tr>\n",
       "      <th>0</th>\n",
       "      <td>air_00a91d42b08b08d9</td>\n",
       "      <td>2016-10-31</td>\n",
       "      <td>0</td>\n",
       "      <td>2</td>\n",
       "    </tr>\n",
       "    <tr>\n",
       "      <th>1</th>\n",
       "      <td>air_00a91d42b08b08d9</td>\n",
       "      <td>2016-12-05</td>\n",
       "      <td>4</td>\n",
       "      <td>9</td>\n",
       "    </tr>\n",
       "    <tr>\n",
       "      <th>2</th>\n",
       "      <td>air_00a91d42b08b08d9</td>\n",
       "      <td>2016-12-14</td>\n",
       "      <td>6</td>\n",
       "      <td>18</td>\n",
       "    </tr>\n",
       "    <tr>\n",
       "      <th>3</th>\n",
       "      <td>air_00a91d42b08b08d9</td>\n",
       "      <td>2016-12-17</td>\n",
       "      <td>6</td>\n",
       "      <td>2</td>\n",
       "    </tr>\n",
       "    <tr>\n",
       "      <th>4</th>\n",
       "      <td>air_00a91d42b08b08d9</td>\n",
       "      <td>2016-12-20</td>\n",
       "      <td>2</td>\n",
       "      <td>4</td>\n",
       "    </tr>\n",
       "  </tbody>\n",
       "</table>\n",
       "</div>"
      ],
      "text/plain": [
       "           air_store_id  visit_date  reserve_datetime_diff  reserve_visitors\n",
       "0  air_00a91d42b08b08d9  2016-10-31                      0                 2\n",
       "1  air_00a91d42b08b08d9  2016-12-05                      4                 9\n",
       "2  air_00a91d42b08b08d9  2016-12-14                      6                18\n",
       "3  air_00a91d42b08b08d9  2016-12-17                      6                 2\n",
       "4  air_00a91d42b08b08d9  2016-12-20                      2                 4"
      ]
     },
     "execution_count": 453,
     "metadata": {},
     "output_type": "execute_result"
    }
   ],
   "source": [
    "data['ar'].head()"
   ]
  },
  {
   "cell_type": "code",
   "execution_count": 454,
   "metadata": {
    "_cell_guid": "56ab2ed1-aac4-433c-aa21-3739cfaba784",
    "_uuid": "c966a2c5ab3cde822e63c21be81308c228a615e3",
    "collapsed": true
   },
   "outputs": [],
   "source": [
    "data['hol']['visit_date'] = pd.to_datetime(data['hol']['visit_date'])\n",
    "data['hol']['day_of_week'] = data['hol']['visit_date'].dt.dayofweek\n",
    "#data['hol']['day_of_week'] = lbl.fit_transform(data['hol']['day_of_week']) #Not sure this is right?\n",
    "data['hol']['visit_date'] = data['hol']['visit_date'].dt.date\n",
    "\n",
    "data['tra'] = pd.merge(data['tra'], data['hol'], how='left', on=['visit_date'])\n",
    "data['tes'] = pd.merge(data['tes'], data['hol'], how='left', on=['visit_date'])\n",
    "\n",
    "train = pd.merge(data['tra'], stores, how='left', on=['air_store_id','dow']) \n",
    "test = pd.merge(data['tes'], stores, how='left', on=['air_store_id','dow'])\n",
    "\n",
    "for df in ['ar','hr']:\n",
    "    train = pd.merge(train, data[df], how='left', on=['air_store_id','visit_date']) \n",
    "    test = pd.merge(test, data[df], how='left', on=['air_store_id','visit_date'])\n",
    "\n",
    "col = [c for c in train if c not in ['id', 'air_store_id','visit_date','visitors']]\n",
    "train.loc[:, ['air_genre_name', 'air_area_name']] = train.loc[:, ['air_genre_name', 'air_area_name']].fillna(0) #for entity embeddings\n",
    "test.loc[:, ['air_genre_name', 'air_area_name']] = test.loc[:, ['air_genre_name', 'air_area_name']].fillna(0)\n",
    "train = train.fillna(-1)\n",
    "test = test.fillna(-1)"
   ]
  },
  {
   "cell_type": "code",
   "execution_count": 455,
   "metadata": {
    "collapsed": false
   },
   "outputs": [
    {
     "data": {
      "text/plain": [
       "(0.0, 0.0)"
      ]
     },
     "execution_count": 455,
     "metadata": {},
     "output_type": "execute_result"
    }
   ],
   "source": [
    "train.air_genre_name.min(), train.air_area_name.min()"
   ]
  },
  {
   "cell_type": "code",
   "execution_count": 456,
   "metadata": {
    "_cell_guid": "49a69102-48d0-4eee-b458-0e2b99506357",
    "_uuid": "e8de0b83443d27aac26c751783e0205dbc0b4c86",
    "collapsed": false
   },
   "outputs": [
    {
     "name": "stdout",
     "output_type": "stream",
     "text": [
      "Binding to float32\n"
     ]
    }
   ],
   "source": [
    "# XGB starter template borrowed from @anokas\n",
    "# https://www.kaggle.com/anokas/simple-xgboost-starter-0-0655\n",
    "##NOT SURE ABOUT THIS, ESPECIALLY FOR LATT AND LONG\n",
    "print('Binding to float32')\n",
    "\n",
    "for c, dtype in zip(train.columns, train.dtypes):\n",
    "    if dtype == np.float64:\n",
    "        train[c] = train[c].astype(np.float32)\n",
    "                \n",
    "for c, dtype in zip(test.columns, test.dtypes):\n",
    "    if dtype == np.float64:\n",
    "        test[c] = test[c].astype(np.float32)"
   ]
  },
  {
   "cell_type": "code",
   "execution_count": 458,
   "metadata": {
    "_cell_guid": "987be410-c968-4abe-93fc-0e1b1cc43bed",
    "_uuid": "6cb49e44282e6ee191dfb9d3a47f58b6a2ccc039",
    "collapsed": true
   },
   "outputs": [],
   "source": [
    "#SHOULDN'T DROP AIR STORE ID. SHOULD LABEL ENCODE OF SOMETHING?\n",
    "train.sort_values('visit_date', inplace=True)\n",
    "train = train.drop(['air_store_id','visit_date', 'day_of_week'], axis=1) "
   ]
  },
  {
   "cell_type": "code",
   "execution_count": 302,
   "metadata": {
    "_cell_guid": "b3d4fda5-c71b-4873-882a-4829c5409bd1",
    "_uuid": "6d985e55d0f87cd4b0e2882d7519189caf91d082",
    "collapsed": false
   },
   "outputs": [
    {
     "data": {
      "text/plain": [
       "'# Create training / validation split\\nsplit = 200000\\n#x_train, y_train, x_valid, y_valid = x_train[:split], y_train[:split], x_train[split:], y_train[split:]\\n\\ntr, val = train[:split], train[split:]\\n'"
      ]
     },
     "execution_count": 302,
     "metadata": {},
     "output_type": "execute_result"
    }
   ],
   "source": [
    "'''# Create training / validation split\n",
    "split = 200000\n",
    "#x_train, y_train, x_valid, y_valid = x_train[:split], y_train[:split], x_train[split:], y_train[split:]\n",
    "\n",
    "tr, val = train[:split], train[split:]\n",
    "'''"
   ]
  },
  {
   "cell_type": "code",
   "execution_count": 459,
   "metadata": {
    "collapsed": true
   },
   "outputs": [],
   "source": [
    "def rmsle(pred, act):\n",
    "    assert len(pred) == len(act)\n",
    "    return np.sqrt(np.mean(np.power(np.log1p(pred)-act, 2)))"
   ]
  },
  {
   "cell_type": "markdown",
   "metadata": {},
   "source": [
    "### Entity Embedding"
   ]
  },
  {
   "cell_type": "code",
   "execution_count": 460,
   "metadata": {
    "collapsed": true
   },
   "outputs": [],
   "source": [
    "to_embed = ['dow', 'year', 'month', 'holiday_flg', 'air_genre_name', 'air_area_name']\n",
    "cont_cols = ['min_visitors',\n",
    "       'mean_visitors', 'median_visitors', 'max_visitors',\n",
    "       'count_observations', 'latitude',\n",
    "       'longitude', 'reserve_datetime_diff_x', 'reserve_visitors_x',\n",
    "       'reserve_datetime_diff_y', 'reserve_visitors_y']"
   ]
  },
  {
   "cell_type": "code",
   "execution_count": 461,
   "metadata": {
    "collapsed": false
   },
   "outputs": [
    {
     "data": {
      "text/plain": [
       "[('dow', 7, 4.0),\n",
       " ('year', 2, 4.0),\n",
       " ('month', 12, 4.0),\n",
       " ('holiday_flg', 2, 4.0),\n",
       " ('air_genre_name', 15, 4.0),\n",
       " ('air_area_name', 104, 4.0)]"
      ]
     },
     "execution_count": 461,
     "metadata": {},
     "output_type": "execute_result"
    }
   ],
   "source": [
    "embed_info = list(zip(to_embed, train[to_embed].nunique().values, np.ones(len(to_embed)) * 4))\n",
    "embed_info"
   ]
  },
  {
   "cell_type": "code",
   "execution_count": 462,
   "metadata": {
    "collapsed": false
   },
   "outputs": [],
   "source": [
    "df_map = [('year', LabelEncoder())] + [([o], StandardScaler()) for o in cont_cols]\n",
    "mapper = DataFrameMapper(df_map, input_df=True, df_out=True, default=None)"
   ]
  },
  {
   "cell_type": "code",
   "execution_count": 463,
   "metadata": {
    "collapsed": true
   },
   "outputs": [],
   "source": [
    "mapper_fit = mapper.fit(train)"
   ]
  },
  {
   "cell_type": "code",
   "execution_count": 464,
   "metadata": {
    "collapsed": true
   },
   "outputs": [],
   "source": [
    "train = mapper_fit.transform(train)"
   ]
  },
  {
   "cell_type": "code",
   "execution_count": 309,
   "metadata": {
    "collapsed": false
   },
   "outputs": [
    {
     "data": {
      "text/plain": [
       "\"\\n#NEED TO START YEAR VALUES AT 0 FOR EMBEDDINGS\\nlbl_yr = preprocessing.LabelEncoder()\\ntrain.loc[:, 'year'] =  lbl_yr.fit_transform(train.loc[:,'year'])\\n\\n#NORMALIZE CONTINUOUS COLUMNS\\nsc = preprocessing.StandardScaler().fit(train[cont_cols].values)\\ntrain.loc[:, cont_cols] = sc.transform(train[cont_cols])\\n\""
      ]
     },
     "execution_count": 309,
     "metadata": {},
     "output_type": "execute_result"
    }
   ],
   "source": [
    "'''\n",
    "#NEED TO START YEAR VALUES AT 0 FOR EMBEDDINGS\n",
    "lbl_yr = preprocessing.LabelEncoder()\n",
    "train.loc[:, 'year'] =  lbl_yr.fit_transform(train.loc[:,'year'])\n",
    "\n",
    "#NORMALIZE CONTINUOUS COLUMNS\n",
    "sc = preprocessing.StandardScaler().fit(train[cont_cols].values)\n",
    "train.loc[:, cont_cols] = sc.transform(train[cont_cols])\n",
    "'''"
   ]
  },
  {
   "cell_type": "code",
   "execution_count": 465,
   "metadata": {
    "collapsed": false
   },
   "outputs": [
    {
     "data": {
      "text/html": [
       "<div>\n",
       "<style scoped>\n",
       "    .dataframe tbody tr th:only-of-type {\n",
       "        vertical-align: middle;\n",
       "    }\n",
       "\n",
       "    .dataframe tbody tr th {\n",
       "        vertical-align: top;\n",
       "    }\n",
       "\n",
       "    .dataframe thead th {\n",
       "        text-align: right;\n",
       "    }\n",
       "</style>\n",
       "<table border=\"1\" class=\"dataframe\">\n",
       "  <thead>\n",
       "    <tr style=\"text-align: right;\">\n",
       "      <th></th>\n",
       "      <th>year</th>\n",
       "      <th>min_visitors</th>\n",
       "      <th>mean_visitors</th>\n",
       "      <th>median_visitors</th>\n",
       "      <th>max_visitors</th>\n",
       "      <th>count_observations</th>\n",
       "      <th>latitude</th>\n",
       "      <th>longitude</th>\n",
       "      <th>reserve_datetime_diff_x</th>\n",
       "      <th>reserve_visitors_x</th>\n",
       "      <th>reserve_datetime_diff_y</th>\n",
       "      <th>reserve_visitors_y</th>\n",
       "      <th>visitors</th>\n",
       "      <th>dow</th>\n",
       "      <th>month</th>\n",
       "      <th>holiday_flg</th>\n",
       "      <th>air_genre_name</th>\n",
       "      <th>air_area_name</th>\n",
       "    </tr>\n",
       "  </thead>\n",
       "  <tbody>\n",
       "    <tr>\n",
       "      <th>189299</th>\n",
       "      <td>0.0</td>\n",
       "      <td>-0.519280</td>\n",
       "      <td>-0.824213</td>\n",
       "      <td>-0.757776</td>\n",
       "      <td>-0.791490</td>\n",
       "      <td>1.228158</td>\n",
       "      <td>-0.500279</td>\n",
       "      <td>-0.522118</td>\n",
       "      <td>-0.016028</td>\n",
       "      <td>-0.221856</td>\n",
       "      <td>-0.13069</td>\n",
       "      <td>-0.167472</td>\n",
       "      <td>19.0</td>\n",
       "      <td>4.0</td>\n",
       "      <td>0.0</td>\n",
       "      <td>1.0</td>\n",
       "      <td>3.0</td>\n",
       "      <td>4.0</td>\n",
       "    </tr>\n",
       "    <tr>\n",
       "      <th>200675</th>\n",
       "      <td>0.0</td>\n",
       "      <td>2.308724</td>\n",
       "      <td>1.633839</td>\n",
       "      <td>1.745334</td>\n",
       "      <td>0.396746</td>\n",
       "      <td>1.228158</td>\n",
       "      <td>0.091204</td>\n",
       "      <td>0.276980</td>\n",
       "      <td>-0.016028</td>\n",
       "      <td>-0.221856</td>\n",
       "      <td>-0.13069</td>\n",
       "      <td>-0.167472</td>\n",
       "      <td>64.0</td>\n",
       "      <td>4.0</td>\n",
       "      <td>0.0</td>\n",
       "      <td>1.0</td>\n",
       "      <td>8.0</td>\n",
       "      <td>78.0</td>\n",
       "    </tr>\n",
       "    <tr>\n",
       "      <th>213541</th>\n",
       "      <td>0.0</td>\n",
       "      <td>0.580499</td>\n",
       "      <td>0.738021</td>\n",
       "      <td>0.337335</td>\n",
       "      <td>2.422148</td>\n",
       "      <td>1.296504</td>\n",
       "      <td>0.084327</td>\n",
       "      <td>0.277280</td>\n",
       "      <td>-0.016028</td>\n",
       "      <td>-0.221856</td>\n",
       "      <td>-0.13069</td>\n",
       "      <td>-0.167472</td>\n",
       "      <td>102.0</td>\n",
       "      <td>4.0</td>\n",
       "      <td>0.0</td>\n",
       "      <td>1.0</td>\n",
       "      <td>3.0</td>\n",
       "      <td>74.0</td>\n",
       "    </tr>\n",
       "    <tr>\n",
       "      <th>161915</th>\n",
       "      <td>0.0</td>\n",
       "      <td>0.580499</td>\n",
       "      <td>0.364812</td>\n",
       "      <td>0.337335</td>\n",
       "      <td>0.153697</td>\n",
       "      <td>1.296504</td>\n",
       "      <td>-0.159201</td>\n",
       "      <td>-0.094032</td>\n",
       "      <td>-0.016028</td>\n",
       "      <td>-0.221856</td>\n",
       "      <td>-0.13069</td>\n",
       "      <td>-0.167472</td>\n",
       "      <td>55.0</td>\n",
       "      <td>4.0</td>\n",
       "      <td>0.0</td>\n",
       "      <td>1.0</td>\n",
       "      <td>8.0</td>\n",
       "      <td>32.0</td>\n",
       "    </tr>\n",
       "    <tr>\n",
       "      <th>142213</th>\n",
       "      <td>0.0</td>\n",
       "      <td>-0.047946</td>\n",
       "      <td>0.061436</td>\n",
       "      <td>-0.131999</td>\n",
       "      <td>0.531772</td>\n",
       "      <td>1.296504</td>\n",
       "      <td>0.092807</td>\n",
       "      <td>0.271248</td>\n",
       "      <td>-0.016028</td>\n",
       "      <td>-0.221856</td>\n",
       "      <td>-0.13069</td>\n",
       "      <td>-0.167472</td>\n",
       "      <td>42.0</td>\n",
       "      <td>4.0</td>\n",
       "      <td>0.0</td>\n",
       "      <td>1.0</td>\n",
       "      <td>13.0</td>\n",
       "      <td>80.0</td>\n",
       "    </tr>\n",
       "  </tbody>\n",
       "</table>\n",
       "</div>"
      ],
      "text/plain": [
       "        year  min_visitors  mean_visitors  median_visitors  max_visitors  \\\n",
       "189299   0.0     -0.519280      -0.824213        -0.757776     -0.791490   \n",
       "200675   0.0      2.308724       1.633839         1.745334      0.396746   \n",
       "213541   0.0      0.580499       0.738021         0.337335      2.422148   \n",
       "161915   0.0      0.580499       0.364812         0.337335      0.153697   \n",
       "142213   0.0     -0.047946       0.061436        -0.131999      0.531772   \n",
       "\n",
       "        count_observations  latitude  longitude  reserve_datetime_diff_x  \\\n",
       "189299            1.228158 -0.500279  -0.522118                -0.016028   \n",
       "200675            1.228158  0.091204   0.276980                -0.016028   \n",
       "213541            1.296504  0.084327   0.277280                -0.016028   \n",
       "161915            1.296504 -0.159201  -0.094032                -0.016028   \n",
       "142213            1.296504  0.092807   0.271248                -0.016028   \n",
       "\n",
       "        reserve_visitors_x  reserve_datetime_diff_y  reserve_visitors_y  \\\n",
       "189299           -0.221856                 -0.13069           -0.167472   \n",
       "200675           -0.221856                 -0.13069           -0.167472   \n",
       "213541           -0.221856                 -0.13069           -0.167472   \n",
       "161915           -0.221856                 -0.13069           -0.167472   \n",
       "142213           -0.221856                 -0.13069           -0.167472   \n",
       "\n",
       "        visitors  dow  month  holiday_flg  air_genre_name  air_area_name  \n",
       "189299      19.0  4.0    0.0          1.0             3.0            4.0  \n",
       "200675      64.0  4.0    0.0          1.0             8.0           78.0  \n",
       "213541     102.0  4.0    0.0          1.0             3.0           74.0  \n",
       "161915      55.0  4.0    0.0          1.0             8.0           32.0  \n",
       "142213      42.0  4.0    0.0          1.0            13.0           80.0  "
      ]
     },
     "execution_count": 465,
     "metadata": {},
     "output_type": "execute_result"
    }
   ],
   "source": [
    "train.head()"
   ]
  },
  {
   "cell_type": "code",
   "execution_count": 466,
   "metadata": {
    "collapsed": false
   },
   "outputs": [
    {
     "data": {
      "text/plain": [
       "((200000, 18), (52108, 18))"
      ]
     },
     "execution_count": 466,
     "metadata": {},
     "output_type": "execute_result"
    }
   ],
   "source": [
    "train.loc[:, 'visitors'] = train.visitors.apply(np.log1p)\n",
    "\n",
    "# Create training / validation split\n",
    "split = 200000\n",
    "#x_train, y_train, x_valid, y_valid = x_train[:split], y_train[:split], x_train[split:], y_train[split:]\n",
    "tr, val = train[:split], train[split:]\n",
    "#y_tr = tr['visitors']; y_val = val['visitors']\n",
    "#x_tr = tr.drop('visitors', axis=1); x_val = val.drop('visitors', axis=1)\n",
    "\n",
    "tr.shape, val.shape"
   ]
  },
  {
   "cell_type": "code",
   "execution_count": 467,
   "metadata": {
    "collapsed": true
   },
   "outputs": [],
   "source": [
    "def to_var(data, volatile=False):\n",
    "    if torch.cuda.is_available():\n",
    "        return Variable(torch.Tensor(data), volatile=volatile).cuda()\n",
    "    else:\n",
    "        return Variable(torch.Tensor(data), volatile=volatile)"
   ]
  },
  {
   "cell_type": "code",
   "execution_count": 488,
   "metadata": {
    "collapsed": false
   },
   "outputs": [],
   "source": [
    "cont_mod_out_size = 32\n",
    "BATCH_SIZE = 16\n",
    "embed_out_size = int(sum([info[2] for info in embed_info]))\n",
    "emb_mod = EmbedModel(embed_info, do=.95)\n",
    "cont_mod = ContModel(len(cont_cols), cont_mod_out_size, do=.95)\n",
    "reg_mod = RegModel(cont_mod_out_size + embed_out_size, h1_size=32, do=.95)\n",
    "crit = torch.nn.MSELoss()\n",
    "LR = 0.001\n",
    "params = list(emb_mod.parameters()) + list(cont_mod.parameters()) + list(reg_mod.parameters())\n",
    "optimizer = torch.optim.SGD(params, lr=LR)\n",
    "PRINT_EVERY = 400\n",
    "EPOCHS = 1"
   ]
  },
  {
   "cell_type": "code",
   "execution_count": 489,
   "metadata": {
    "collapsed": false
   },
   "outputs": [
    {
     "name": "stdout",
     "output_type": "stream",
     "text": [
      "<bound method Module.children of EmbedModel (\n",
      "  (embed_0): Embedding(7, 4)\n",
      "  (embed_1): Embedding(2, 4)\n",
      "  (embed_2): Embedding(12, 4)\n",
      "  (embed_3): Embedding(2, 4)\n",
      "  (embed_4): Embedding(15, 4)\n",
      "  (embed_5): Embedding(104, 4)\n",
      "  (do): Dropout (p = 0.95)\n",
      ")>\n",
      "<bound method Module.children of ContModel (\n",
      "  (linear): Linear (11 -> 32)\n",
      "  (bn): BatchNorm1d(32, eps=1e-05, momentum=0.1, affine=True)\n",
      "  (do): Dropout (p = 0.95)\n",
      ")>\n",
      "<bound method Module.children of RegModel (\n",
      "  (h1): Linear (56 -> 32)\n",
      "  (bn): BatchNorm1d(32, eps=1e-05, momentum=0.1, affine=True)\n",
      "  (do1): Dropout (p = 0.95)\n",
      "  (out): Linear (32 -> 1)\n",
      ")>\n"
     ]
    }
   ],
   "source": [
    "print(emb_mod.children)\n",
    "print(cont_mod.children)\n",
    "print(reg_mod.children)"
   ]
  },
  {
   "cell_type": "code",
   "execution_count": 490,
   "metadata": {
    "collapsed": true
   },
   "outputs": [],
   "source": [
    "def sanity(batch):\n",
    "    print(batch.index)\n",
    "    \n",
    "def avg_loss(loss, i):\n",
    "    return torch.sqrt(loss / (i +1)).data[0]"
   ]
  },
  {
   "cell_type": "code",
   "execution_count": 491,
   "metadata": {
    "collapsed": false
   },
   "outputs": [
    {
     "name": "stdout",
     "output_type": "stream",
     "text": [
      "step 399 loss: 2.0681188106536865\n",
      "step 799 loss: 0.8287376165390015\n",
      "step 1199 loss: 0.5211510062217712\n",
      "step 1599 loss: 0.4076770544052124\n",
      "step 1999 loss: 0.3534235656261444\n",
      "step 2399 loss: 0.3288749158382416\n",
      "step 2799 loss: 0.30763548612594604\n",
      "step 3199 loss: 0.2873157858848572\n",
      "step 3599 loss: 0.26153528690338135\n",
      "step 3999 loss: 0.25801727175712585\n",
      "step 4399 loss: 0.2465488463640213\n",
      "step 4799 loss: 0.23537097871303558\n",
      "step 5199 loss: 0.23269176483154297\n",
      "step 5599 loss: 0.20822477340698242\n",
      "step 5999 loss: 0.20183905959129333\n",
      "step 6399 loss: 0.20087836682796478\n",
      "step 6799 loss: 0.21059854328632355\n",
      "step 7199 loss: 0.1846434772014618\n",
      "step 7599 loss: 0.1839084029197693\n",
      "step 7999 loss: 0.17816941440105438\n",
      "step 8399 loss: 0.17556685209274292\n",
      "step 8799 loss: 0.17205922305583954\n",
      "step 9199 loss: 0.16482385993003845\n",
      "step 9599 loss: 0.17051385343074799\n",
      "step 9999 loss: 0.15607860684394836\n",
      "step 10399 loss: 0.1548227071762085\n",
      "step 10799 loss: 0.15832486748695374\n",
      "step 11199 loss: 0.15265357494354248\n",
      "step 11599 loss: 0.15549810230731964\n",
      "step 11999 loss: 0.15759074687957764\n",
      "step 12399 loss: 0.1413230150938034\n",
      "Epoch 0 last loss 0.08243652433156967\n"
     ]
    }
   ],
   "source": [
    "##MAIN TRAINING LOOP\n",
    "emb_mod.train(); cont_mod.train(); reg_mod.train();\n",
    "losses = []\n",
    "for epoch in range(EPOCHS):\n",
    "    num_steps = (len(tr) // BATCH_SIZE) - 1\n",
    "    run_loss = 0.0\n",
    "    tr_samp = tr.sample(frac=1, random_state=SEED)\n",
    "    for i in range(num_steps):\n",
    "        optimizer.zero_grad()\n",
    "        batch = tr_samp.iloc[i:i+BATCH_SIZE, :]\n",
    "        #pdb.set_trace()\n",
    "        #sanity(batch)\n",
    "        batch_to_embed = to_var(batch.loc[:, to_embed].values).type(torch.LongTensor)\n",
    "        batch_cont = to_var(batch.loc[:, cont_cols].values)\n",
    "        batch_y = to_var(batch.loc[:, 'visitors'].values)\n",
    "        batch_embeds = emb_mod(batch_to_embed)\n",
    "        cont_out = cont_mod(batch_cont)\n",
    "        reg_inp = torch.cat([batch_embeds, cont_out], 1)\n",
    "        final_out = reg_mod(reg_inp) \n",
    "        loss = crit(final_out, batch_y) \n",
    "        #DO YOU NEED TO EXPM1 THEN LOG1P PREDICTIONS BEFORE PASSING TO LOSS?\n",
    "        #loss is average per minibatch. if you add those losses together, then divide by the number of minibatches\n",
    "        #run loss / number of minibatch, you get an average of averages.\n",
    "        loss.backward()\n",
    "        optimizer.step()\n",
    "        run_loss += loss\n",
    "        if (i+1) % PRINT_EVERY == 0:\n",
    "            print('step {} loss: {}'.format(i, avg_loss(run_loss, i)))\n",
    "            run_loss = 0.0\n",
    "    print('Epoch {} last loss {}'.format(epoch, avg_loss(run_loss, i)))\n"
   ]
  },
  {
   "cell_type": "code",
   "execution_count": 492,
   "metadata": {
    "collapsed": false
   },
   "outputs": [],
   "source": [
    "def get_preds(df, batch_size=4):\n",
    "    outs = []\n",
    "    num_steps = len(df) // batch_size\n",
    "    emb_mod.eval(); cont_mod.eval(); reg_mod.eval();\n",
    "    for i in range(num_steps):\n",
    "        batch = val.iloc[i:i+batch_size, :]\n",
    "        #pdb.set_trace()\n",
    "        #sanity(batch)\n",
    "        batch_to_embed = to_var(batch.loc[:, to_embed].values, volatile=True).type(torch.LongTensor)\n",
    "        batch_cont = to_var(batch.loc[:, cont_cols].values, volatile=True)\n",
    "        batch_embeds = emb_mod(batch_to_embed)\n",
    "        cont_out = cont_mod(batch_cont)\n",
    "        reg_inp = torch.cat([batch_embeds, cont_out], 1)\n",
    "        outs.append(reg_mod(reg_inp))\n",
    "    return torch.cat(outs)"
   ]
  },
  {
   "cell_type": "code",
   "execution_count": 493,
   "metadata": {
    "collapsed": true
   },
   "outputs": [],
   "source": [
    "val_preds = get_preds(val)"
   ]
  },
  {
   "cell_type": "code",
   "execution_count": 500,
   "metadata": {
    "collapsed": false
   },
   "outputs": [
    {
     "data": {
      "text/plain": [
       "torch.Size([52108])"
      ]
     },
     "execution_count": 500,
     "metadata": {},
     "output_type": "execute_result"
    }
   ],
   "source": [
    "val_y = to_var(torch.Tensor(val.visitors.values)); val_y.size()\n",
    "val_preds = torch.cat(val_preds).squeeze(); val_preds.size()"
   ]
  },
  {
   "cell_type": "code",
   "execution_count": 501,
   "metadata": {
    "collapsed": false
   },
   "outputs": [
    {
     "data": {
      "text/plain": [
       "2.8866801"
      ]
     },
     "execution_count": 501,
     "metadata": {},
     "output_type": "execute_result"
    }
   ],
   "source": [
    "val_preds.data.numpy().max()"
   ]
  },
  {
   "cell_type": "code",
   "execution_count": 503,
   "metadata": {
    "collapsed": false
   },
   "outputs": [
    {
     "data": {
      "text/plain": [
       "0.8217307329177856"
      ]
     },
     "execution_count": 503,
     "metadata": {},
     "output_type": "execute_result"
    }
   ],
   "source": [
    "torch.sqrt(crit(val_preds, val_y)).data[0]"
   ]
  },
  {
   "cell_type": "code",
   "execution_count": 504,
   "metadata": {
    "collapsed": false
   },
   "outputs": [
    {
     "data": {
      "text/html": [
       "<div>\n",
       "<style scoped>\n",
       "    .dataframe tbody tr th:only-of-type {\n",
       "        vertical-align: middle;\n",
       "    }\n",
       "\n",
       "    .dataframe tbody tr th {\n",
       "        vertical-align: top;\n",
       "    }\n",
       "\n",
       "    .dataframe thead th {\n",
       "        text-align: right;\n",
       "    }\n",
       "</style>\n",
       "<table border=\"1\" class=\"dataframe\">\n",
       "  <thead>\n",
       "    <tr style=\"text-align: right;\">\n",
       "      <th></th>\n",
       "      <th>visitors</th>\n",
       "      <th>dow</th>\n",
       "      <th>year</th>\n",
       "      <th>month</th>\n",
       "      <th>holiday_flg</th>\n",
       "      <th>min_visitors</th>\n",
       "      <th>mean_visitors</th>\n",
       "      <th>median_visitors</th>\n",
       "      <th>max_visitors</th>\n",
       "      <th>count_observations</th>\n",
       "      <th>air_genre_name</th>\n",
       "      <th>air_area_name</th>\n",
       "      <th>latitude</th>\n",
       "      <th>longitude</th>\n",
       "      <th>reserve_datetime_diff_x</th>\n",
       "      <th>reserve_visitors_x</th>\n",
       "      <th>reserve_datetime_diff_y</th>\n",
       "      <th>reserve_visitors_y</th>\n",
       "    </tr>\n",
       "  </thead>\n",
       "  <tbody>\n",
       "    <tr>\n",
       "      <th>0</th>\n",
       "      <td>0</td>\n",
       "      <td>6</td>\n",
       "      <td>2017</td>\n",
       "      <td>3</td>\n",
       "      <td>0</td>\n",
       "      <td>2.0</td>\n",
       "      <td>2.000000</td>\n",
       "      <td>2.0</td>\n",
       "      <td>2.0</td>\n",
       "      <td>1.0</td>\n",
       "      <td>7</td>\n",
       "      <td>45</td>\n",
       "      <td>35.694004</td>\n",
       "      <td>139.753601</td>\n",
       "      <td>-1.0</td>\n",
       "      <td>-1.0</td>\n",
       "      <td>-1.0</td>\n",
       "      <td>-1.0</td>\n",
       "    </tr>\n",
       "    <tr>\n",
       "      <th>1</th>\n",
       "      <td>0</td>\n",
       "      <td>0</td>\n",
       "      <td>2017</td>\n",
       "      <td>3</td>\n",
       "      <td>0</td>\n",
       "      <td>1.0</td>\n",
       "      <td>22.457144</td>\n",
       "      <td>19.0</td>\n",
       "      <td>47.0</td>\n",
       "      <td>35.0</td>\n",
       "      <td>7</td>\n",
       "      <td>45</td>\n",
       "      <td>35.694004</td>\n",
       "      <td>139.753601</td>\n",
       "      <td>-1.0</td>\n",
       "      <td>-1.0</td>\n",
       "      <td>-1.0</td>\n",
       "      <td>-1.0</td>\n",
       "    </tr>\n",
       "    <tr>\n",
       "      <th>2</th>\n",
       "      <td>0</td>\n",
       "      <td>1</td>\n",
       "      <td>2017</td>\n",
       "      <td>3</td>\n",
       "      <td>0</td>\n",
       "      <td>1.0</td>\n",
       "      <td>24.350000</td>\n",
       "      <td>24.5</td>\n",
       "      <td>43.0</td>\n",
       "      <td>40.0</td>\n",
       "      <td>7</td>\n",
       "      <td>45</td>\n",
       "      <td>35.694004</td>\n",
       "      <td>139.753601</td>\n",
       "      <td>-1.0</td>\n",
       "      <td>-1.0</td>\n",
       "      <td>-1.0</td>\n",
       "      <td>-1.0</td>\n",
       "    </tr>\n",
       "    <tr>\n",
       "      <th>3</th>\n",
       "      <td>0</td>\n",
       "      <td>2</td>\n",
       "      <td>2017</td>\n",
       "      <td>3</td>\n",
       "      <td>0</td>\n",
       "      <td>15.0</td>\n",
       "      <td>28.125000</td>\n",
       "      <td>28.0</td>\n",
       "      <td>52.0</td>\n",
       "      <td>40.0</td>\n",
       "      <td>7</td>\n",
       "      <td>45</td>\n",
       "      <td>35.694004</td>\n",
       "      <td>139.753601</td>\n",
       "      <td>-1.0</td>\n",
       "      <td>-1.0</td>\n",
       "      <td>-1.0</td>\n",
       "      <td>-1.0</td>\n",
       "    </tr>\n",
       "    <tr>\n",
       "      <th>4</th>\n",
       "      <td>0</td>\n",
       "      <td>3</td>\n",
       "      <td>2017</td>\n",
       "      <td>3</td>\n",
       "      <td>0</td>\n",
       "      <td>15.0</td>\n",
       "      <td>29.868422</td>\n",
       "      <td>30.0</td>\n",
       "      <td>47.0</td>\n",
       "      <td>38.0</td>\n",
       "      <td>7</td>\n",
       "      <td>45</td>\n",
       "      <td>35.694004</td>\n",
       "      <td>139.753601</td>\n",
       "      <td>-1.0</td>\n",
       "      <td>-1.0</td>\n",
       "      <td>-1.0</td>\n",
       "      <td>-1.0</td>\n",
       "    </tr>\n",
       "  </tbody>\n",
       "</table>\n",
       "</div>"
      ],
      "text/plain": [
       "   visitors  dow  year  month  holiday_flg  min_visitors  mean_visitors  \\\n",
       "0         0    6  2017      3            0           2.0       2.000000   \n",
       "1         0    0  2017      3            0           1.0      22.457144   \n",
       "2         0    1  2017      3            0           1.0      24.350000   \n",
       "3         0    2  2017      3            0          15.0      28.125000   \n",
       "4         0    3  2017      3            0          15.0      29.868422   \n",
       "\n",
       "   median_visitors  max_visitors  count_observations  air_genre_name  \\\n",
       "0              2.0           2.0                 1.0               7   \n",
       "1             19.0          47.0                35.0               7   \n",
       "2             24.5          43.0                40.0               7   \n",
       "3             28.0          52.0                40.0               7   \n",
       "4             30.0          47.0                38.0               7   \n",
       "\n",
       "   air_area_name   latitude   longitude  reserve_datetime_diff_x  \\\n",
       "0             45  35.694004  139.753601                     -1.0   \n",
       "1             45  35.694004  139.753601                     -1.0   \n",
       "2             45  35.694004  139.753601                     -1.0   \n",
       "3             45  35.694004  139.753601                     -1.0   \n",
       "4             45  35.694004  139.753601                     -1.0   \n",
       "\n",
       "   reserve_visitors_x  reserve_datetime_diff_y  reserve_visitors_y  \n",
       "0                -1.0                     -1.0                -1.0  \n",
       "1                -1.0                     -1.0                -1.0  \n",
       "2                -1.0                     -1.0                -1.0  \n",
       "3                -1.0                     -1.0                -1.0  \n",
       "4                -1.0                     -1.0                -1.0  "
      ]
     },
     "execution_count": 504,
     "metadata": {},
     "output_type": "execute_result"
    }
   ],
   "source": [
    "test_ids = test.id\n",
    "test = test.drop(['air_store_id','visit_date', 'day_of_week', 'id'], axis=1) \n",
    "test.head()"
   ]
  },
  {
   "cell_type": "code",
   "execution_count": 505,
   "metadata": {
    "collapsed": false
   },
   "outputs": [
    {
     "data": {
      "text/html": [
       "<div>\n",
       "<style scoped>\n",
       "    .dataframe tbody tr th:only-of-type {\n",
       "        vertical-align: middle;\n",
       "    }\n",
       "\n",
       "    .dataframe tbody tr th {\n",
       "        vertical-align: top;\n",
       "    }\n",
       "\n",
       "    .dataframe thead th {\n",
       "        text-align: right;\n",
       "    }\n",
       "</style>\n",
       "<table border=\"1\" class=\"dataframe\">\n",
       "  <thead>\n",
       "    <tr style=\"text-align: right;\">\n",
       "      <th></th>\n",
       "      <th>visitors</th>\n",
       "      <th>dow</th>\n",
       "      <th>year</th>\n",
       "      <th>month</th>\n",
       "      <th>holiday_flg</th>\n",
       "      <th>min_visitors</th>\n",
       "      <th>mean_visitors</th>\n",
       "      <th>median_visitors</th>\n",
       "      <th>max_visitors</th>\n",
       "      <th>count_observations</th>\n",
       "      <th>air_genre_name</th>\n",
       "      <th>air_area_name</th>\n",
       "      <th>latitude</th>\n",
       "      <th>longitude</th>\n",
       "      <th>reserve_datetime_diff_x</th>\n",
       "      <th>reserve_visitors_x</th>\n",
       "      <th>reserve_datetime_diff_y</th>\n",
       "      <th>reserve_visitors_y</th>\n",
       "    </tr>\n",
       "  </thead>\n",
       "  <tbody>\n",
       "    <tr>\n",
       "      <th>0</th>\n",
       "      <td>0</td>\n",
       "      <td>6</td>\n",
       "      <td>2017</td>\n",
       "      <td>3</td>\n",
       "      <td>0</td>\n",
       "      <td>2.0</td>\n",
       "      <td>2.000000</td>\n",
       "      <td>2.0</td>\n",
       "      <td>2.0</td>\n",
       "      <td>1.0</td>\n",
       "      <td>7</td>\n",
       "      <td>45</td>\n",
       "      <td>35.694004</td>\n",
       "      <td>139.753601</td>\n",
       "      <td>-1.0</td>\n",
       "      <td>-1.0</td>\n",
       "      <td>-1.0</td>\n",
       "      <td>-1.0</td>\n",
       "    </tr>\n",
       "    <tr>\n",
       "      <th>1</th>\n",
       "      <td>0</td>\n",
       "      <td>0</td>\n",
       "      <td>2017</td>\n",
       "      <td>3</td>\n",
       "      <td>0</td>\n",
       "      <td>1.0</td>\n",
       "      <td>22.457144</td>\n",
       "      <td>19.0</td>\n",
       "      <td>47.0</td>\n",
       "      <td>35.0</td>\n",
       "      <td>7</td>\n",
       "      <td>45</td>\n",
       "      <td>35.694004</td>\n",
       "      <td>139.753601</td>\n",
       "      <td>-1.0</td>\n",
       "      <td>-1.0</td>\n",
       "      <td>-1.0</td>\n",
       "      <td>-1.0</td>\n",
       "    </tr>\n",
       "    <tr>\n",
       "      <th>2</th>\n",
       "      <td>0</td>\n",
       "      <td>1</td>\n",
       "      <td>2017</td>\n",
       "      <td>3</td>\n",
       "      <td>0</td>\n",
       "      <td>1.0</td>\n",
       "      <td>24.350000</td>\n",
       "      <td>24.5</td>\n",
       "      <td>43.0</td>\n",
       "      <td>40.0</td>\n",
       "      <td>7</td>\n",
       "      <td>45</td>\n",
       "      <td>35.694004</td>\n",
       "      <td>139.753601</td>\n",
       "      <td>-1.0</td>\n",
       "      <td>-1.0</td>\n",
       "      <td>-1.0</td>\n",
       "      <td>-1.0</td>\n",
       "    </tr>\n",
       "    <tr>\n",
       "      <th>3</th>\n",
       "      <td>0</td>\n",
       "      <td>2</td>\n",
       "      <td>2017</td>\n",
       "      <td>3</td>\n",
       "      <td>0</td>\n",
       "      <td>15.0</td>\n",
       "      <td>28.125000</td>\n",
       "      <td>28.0</td>\n",
       "      <td>52.0</td>\n",
       "      <td>40.0</td>\n",
       "      <td>7</td>\n",
       "      <td>45</td>\n",
       "      <td>35.694004</td>\n",
       "      <td>139.753601</td>\n",
       "      <td>-1.0</td>\n",
       "      <td>-1.0</td>\n",
       "      <td>-1.0</td>\n",
       "      <td>-1.0</td>\n",
       "    </tr>\n",
       "    <tr>\n",
       "      <th>4</th>\n",
       "      <td>0</td>\n",
       "      <td>3</td>\n",
       "      <td>2017</td>\n",
       "      <td>3</td>\n",
       "      <td>0</td>\n",
       "      <td>15.0</td>\n",
       "      <td>29.868422</td>\n",
       "      <td>30.0</td>\n",
       "      <td>47.0</td>\n",
       "      <td>38.0</td>\n",
       "      <td>7</td>\n",
       "      <td>45</td>\n",
       "      <td>35.694004</td>\n",
       "      <td>139.753601</td>\n",
       "      <td>-1.0</td>\n",
       "      <td>-1.0</td>\n",
       "      <td>-1.0</td>\n",
       "      <td>-1.0</td>\n",
       "    </tr>\n",
       "  </tbody>\n",
       "</table>\n",
       "</div>"
      ],
      "text/plain": [
       "   visitors  dow  year  month  holiday_flg  min_visitors  mean_visitors  \\\n",
       "0         0    6  2017      3            0           2.0       2.000000   \n",
       "1         0    0  2017      3            0           1.0      22.457144   \n",
       "2         0    1  2017      3            0           1.0      24.350000   \n",
       "3         0    2  2017      3            0          15.0      28.125000   \n",
       "4         0    3  2017      3            0          15.0      29.868422   \n",
       "\n",
       "   median_visitors  max_visitors  count_observations  air_genre_name  \\\n",
       "0              2.0           2.0                 1.0               7   \n",
       "1             19.0          47.0                35.0               7   \n",
       "2             24.5          43.0                40.0               7   \n",
       "3             28.0          52.0                40.0               7   \n",
       "4             30.0          47.0                38.0               7   \n",
       "\n",
       "   air_area_name   latitude   longitude  reserve_datetime_diff_x  \\\n",
       "0             45  35.694004  139.753601                     -1.0   \n",
       "1             45  35.694004  139.753601                     -1.0   \n",
       "2             45  35.694004  139.753601                     -1.0   \n",
       "3             45  35.694004  139.753601                     -1.0   \n",
       "4             45  35.694004  139.753601                     -1.0   \n",
       "\n",
       "   reserve_visitors_x  reserve_datetime_diff_y  reserve_visitors_y  \n",
       "0                -1.0                     -1.0                -1.0  \n",
       "1                -1.0                     -1.0                -1.0  \n",
       "2                -1.0                     -1.0                -1.0  \n",
       "3                -1.0                     -1.0                -1.0  \n",
       "4                -1.0                     -1.0                -1.0  "
      ]
     },
     "execution_count": 505,
     "metadata": {},
     "output_type": "execute_result"
    }
   ],
   "source": [
    "test.head()"
   ]
  },
  {
   "cell_type": "code",
   "execution_count": 506,
   "metadata": {
    "collapsed": true
   },
   "outputs": [],
   "source": [
    "test_fit = mapper_fit.transform(test)"
   ]
  },
  {
   "cell_type": "code",
   "execution_count": 507,
   "metadata": {
    "collapsed": false
   },
   "outputs": [
    {
     "data": {
      "text/html": [
       "<div>\n",
       "<style scoped>\n",
       "    .dataframe tbody tr th:only-of-type {\n",
       "        vertical-align: middle;\n",
       "    }\n",
       "\n",
       "    .dataframe tbody tr th {\n",
       "        vertical-align: top;\n",
       "    }\n",
       "\n",
       "    .dataframe thead th {\n",
       "        text-align: right;\n",
       "    }\n",
       "</style>\n",
       "<table border=\"1\" class=\"dataframe\">\n",
       "  <thead>\n",
       "    <tr style=\"text-align: right;\">\n",
       "      <th></th>\n",
       "      <th>year</th>\n",
       "      <th>min_visitors</th>\n",
       "      <th>mean_visitors</th>\n",
       "      <th>median_visitors</th>\n",
       "      <th>max_visitors</th>\n",
       "      <th>count_observations</th>\n",
       "      <th>latitude</th>\n",
       "      <th>longitude</th>\n",
       "      <th>reserve_datetime_diff_x</th>\n",
       "      <th>reserve_visitors_x</th>\n",
       "      <th>reserve_datetime_diff_y</th>\n",
       "      <th>reserve_visitors_y</th>\n",
       "      <th>visitors</th>\n",
       "      <th>dow</th>\n",
       "      <th>month</th>\n",
       "      <th>holiday_flg</th>\n",
       "      <th>air_genre_name</th>\n",
       "      <th>air_area_name</th>\n",
       "    </tr>\n",
       "  </thead>\n",
       "  <tbody>\n",
       "    <tr>\n",
       "      <th>0</th>\n",
       "      <td>1.0</td>\n",
       "      <td>-0.519280</td>\n",
       "      <td>-1.486354</td>\n",
       "      <td>-1.383554</td>\n",
       "      <td>-1.277587</td>\n",
       "      <td>-3.351028</td>\n",
       "      <td>0.091249</td>\n",
       "      <td>0.281255</td>\n",
       "      <td>-0.016028</td>\n",
       "      <td>-0.221856</td>\n",
       "      <td>-0.13069</td>\n",
       "      <td>-0.167472</td>\n",
       "      <td>0.0</td>\n",
       "      <td>6.0</td>\n",
       "      <td>3.0</td>\n",
       "      <td>0.0</td>\n",
       "      <td>7.0</td>\n",
       "      <td>45.0</td>\n",
       "    </tr>\n",
       "    <tr>\n",
       "      <th>1</th>\n",
       "      <td>1.0</td>\n",
       "      <td>-0.676391</td>\n",
       "      <td>0.129601</td>\n",
       "      <td>-0.053776</td>\n",
       "      <td>-0.062345</td>\n",
       "      <td>-1.027262</td>\n",
       "      <td>0.091249</td>\n",
       "      <td>0.281255</td>\n",
       "      <td>-0.016028</td>\n",
       "      <td>-0.221856</td>\n",
       "      <td>-0.13069</td>\n",
       "      <td>-0.167472</td>\n",
       "      <td>0.0</td>\n",
       "      <td>0.0</td>\n",
       "      <td>3.0</td>\n",
       "      <td>0.0</td>\n",
       "      <td>7.0</td>\n",
       "      <td>45.0</td>\n",
       "    </tr>\n",
       "    <tr>\n",
       "      <th>2</th>\n",
       "      <td>1.0</td>\n",
       "      <td>-0.676391</td>\n",
       "      <td>0.279122</td>\n",
       "      <td>0.376446</td>\n",
       "      <td>-0.170367</td>\n",
       "      <td>-0.685532</td>\n",
       "      <td>0.091249</td>\n",
       "      <td>0.281255</td>\n",
       "      <td>-0.016028</td>\n",
       "      <td>-0.221856</td>\n",
       "      <td>-0.13069</td>\n",
       "      <td>-0.167472</td>\n",
       "      <td>0.0</td>\n",
       "      <td>1.0</td>\n",
       "      <td>3.0</td>\n",
       "      <td>0.0</td>\n",
       "      <td>7.0</td>\n",
       "      <td>45.0</td>\n",
       "    </tr>\n",
       "    <tr>\n",
       "      <th>3</th>\n",
       "      <td>1.0</td>\n",
       "      <td>1.523167</td>\n",
       "      <td>0.577318</td>\n",
       "      <td>0.650223</td>\n",
       "      <td>0.072681</td>\n",
       "      <td>-0.685532</td>\n",
       "      <td>0.091249</td>\n",
       "      <td>0.281255</td>\n",
       "      <td>-0.016028</td>\n",
       "      <td>-0.221856</td>\n",
       "      <td>-0.13069</td>\n",
       "      <td>-0.167472</td>\n",
       "      <td>0.0</td>\n",
       "      <td>2.0</td>\n",
       "      <td>3.0</td>\n",
       "      <td>0.0</td>\n",
       "      <td>7.0</td>\n",
       "      <td>45.0</td>\n",
       "    </tr>\n",
       "    <tr>\n",
       "      <th>4</th>\n",
       "      <td>1.0</td>\n",
       "      <td>1.523167</td>\n",
       "      <td>0.715035</td>\n",
       "      <td>0.806668</td>\n",
       "      <td>-0.062345</td>\n",
       "      <td>-0.822224</td>\n",
       "      <td>0.091249</td>\n",
       "      <td>0.281255</td>\n",
       "      <td>-0.016028</td>\n",
       "      <td>-0.221856</td>\n",
       "      <td>-0.13069</td>\n",
       "      <td>-0.167472</td>\n",
       "      <td>0.0</td>\n",
       "      <td>3.0</td>\n",
       "      <td>3.0</td>\n",
       "      <td>0.0</td>\n",
       "      <td>7.0</td>\n",
       "      <td>45.0</td>\n",
       "    </tr>\n",
       "  </tbody>\n",
       "</table>\n",
       "</div>"
      ],
      "text/plain": [
       "   year  min_visitors  mean_visitors  median_visitors  max_visitors  \\\n",
       "0   1.0     -0.519280      -1.486354        -1.383554     -1.277587   \n",
       "1   1.0     -0.676391       0.129601        -0.053776     -0.062345   \n",
       "2   1.0     -0.676391       0.279122         0.376446     -0.170367   \n",
       "3   1.0      1.523167       0.577318         0.650223      0.072681   \n",
       "4   1.0      1.523167       0.715035         0.806668     -0.062345   \n",
       "\n",
       "   count_observations  latitude  longitude  reserve_datetime_diff_x  \\\n",
       "0           -3.351028  0.091249   0.281255                -0.016028   \n",
       "1           -1.027262  0.091249   0.281255                -0.016028   \n",
       "2           -0.685532  0.091249   0.281255                -0.016028   \n",
       "3           -0.685532  0.091249   0.281255                -0.016028   \n",
       "4           -0.822224  0.091249   0.281255                -0.016028   \n",
       "\n",
       "   reserve_visitors_x  reserve_datetime_diff_y  reserve_visitors_y  visitors  \\\n",
       "0           -0.221856                 -0.13069           -0.167472       0.0   \n",
       "1           -0.221856                 -0.13069           -0.167472       0.0   \n",
       "2           -0.221856                 -0.13069           -0.167472       0.0   \n",
       "3           -0.221856                 -0.13069           -0.167472       0.0   \n",
       "4           -0.221856                 -0.13069           -0.167472       0.0   \n",
       "\n",
       "   dow  month  holiday_flg  air_genre_name  air_area_name  \n",
       "0  6.0    3.0          0.0             7.0           45.0  \n",
       "1  0.0    3.0          0.0             7.0           45.0  \n",
       "2  1.0    3.0          0.0             7.0           45.0  \n",
       "3  2.0    3.0          0.0             7.0           45.0  \n",
       "4  3.0    3.0          0.0             7.0           45.0  "
      ]
     },
     "execution_count": 507,
     "metadata": {},
     "output_type": "execute_result"
    }
   ],
   "source": [
    "test_fit.head()"
   ]
  },
  {
   "cell_type": "code",
   "execution_count": null,
   "metadata": {
    "collapsed": true
   },
   "outputs": [],
   "source": [
    "test_preds = get_preds(test_fit, batch_size=1)"
   ]
  },
  {
   "cell_type": "code",
   "execution_count": 510,
   "metadata": {
    "collapsed": false
   },
   "outputs": [
    {
     "data": {
      "text/plain": [
       "torch.Size([32019, 1])"
      ]
     },
     "execution_count": 510,
     "metadata": {},
     "output_type": "execute_result"
    }
   ],
   "source": [
    "test_preds.size()"
   ]
  },
  {
   "cell_type": "code",
   "execution_count": 511,
   "metadata": {
    "collapsed": false
   },
   "outputs": [
    {
     "data": {
      "text/plain": [
       "(32019,)"
      ]
     },
     "execution_count": 511,
     "metadata": {},
     "output_type": "execute_result"
    }
   ],
   "source": [
    "test_ids.shape"
   ]
  },
  {
   "cell_type": "code",
   "execution_count": 512,
   "metadata": {
    "collapsed": false
   },
   "outputs": [],
   "source": [
    "test_sub = pd.DataFrame(np.stack([test_ids.values, test_preds.squeeze().data.numpy()], axis=1), columns=['id', 'visitors'])"
   ]
  },
  {
   "cell_type": "code",
   "execution_count": 513,
   "metadata": {
    "collapsed": false
   },
   "outputs": [],
   "source": [
    "test_sub.loc[:, 'visitors'] = test_sub.visitors.apply(lambda x: np.expm1(x))"
   ]
  },
  {
   "cell_type": "code",
   "execution_count": 514,
   "metadata": {
    "collapsed": false
   },
   "outputs": [
    {
     "data": {
      "text/html": [
       "<div>\n",
       "<style scoped>\n",
       "    .dataframe tbody tr th:only-of-type {\n",
       "        vertical-align: middle;\n",
       "    }\n",
       "\n",
       "    .dataframe tbody tr th {\n",
       "        vertical-align: top;\n",
       "    }\n",
       "\n",
       "    .dataframe thead th {\n",
       "        text-align: right;\n",
       "    }\n",
       "</style>\n",
       "<table border=\"1\" class=\"dataframe\">\n",
       "  <thead>\n",
       "    <tr style=\"text-align: right;\">\n",
       "      <th></th>\n",
       "      <th>id</th>\n",
       "      <th>visitors</th>\n",
       "    </tr>\n",
       "  </thead>\n",
       "  <tbody>\n",
       "    <tr>\n",
       "      <th>0</th>\n",
       "      <td>air_00a91d42b08b08d9_2017-04-23</td>\n",
       "      <td>15.347820</td>\n",
       "    </tr>\n",
       "    <tr>\n",
       "      <th>1</th>\n",
       "      <td>air_00a91d42b08b08d9_2017-04-24</td>\n",
       "      <td>15.446642</td>\n",
       "    </tr>\n",
       "    <tr>\n",
       "      <th>2</th>\n",
       "      <td>air_00a91d42b08b08d9_2017-04-25</td>\n",
       "      <td>15.411694</td>\n",
       "    </tr>\n",
       "    <tr>\n",
       "      <th>3</th>\n",
       "      <td>air_00a91d42b08b08d9_2017-04-26</td>\n",
       "      <td>15.460737</td>\n",
       "    </tr>\n",
       "    <tr>\n",
       "      <th>4</th>\n",
       "      <td>air_00a91d42b08b08d9_2017-04-27</td>\n",
       "      <td>15.377047</td>\n",
       "    </tr>\n",
       "  </tbody>\n",
       "</table>\n",
       "</div>"
      ],
      "text/plain": [
       "                                id   visitors\n",
       "0  air_00a91d42b08b08d9_2017-04-23  15.347820\n",
       "1  air_00a91d42b08b08d9_2017-04-24  15.446642\n",
       "2  air_00a91d42b08b08d9_2017-04-25  15.411694\n",
       "3  air_00a91d42b08b08d9_2017-04-26  15.460737\n",
       "4  air_00a91d42b08b08d9_2017-04-27  15.377047"
      ]
     },
     "execution_count": 514,
     "metadata": {},
     "output_type": "execute_result"
    }
   ],
   "source": [
    "test_sub.head()"
   ]
  },
  {
   "cell_type": "code",
   "execution_count": 515,
   "metadata": {
    "collapsed": false
   },
   "outputs": [
    {
     "data": {
      "text/plain": [
       "15.198757159103103"
      ]
     },
     "execution_count": 515,
     "metadata": {},
     "output_type": "execute_result"
    }
   ],
   "source": [
    "test_sub.visitors.min()"
   ]
  },
  {
   "cell_type": "code",
   "execution_count": 516,
   "metadata": {
    "collapsed": false
   },
   "outputs": [
    {
     "data": {
      "text/plain": [
       "17.231981210277414"
      ]
     },
     "execution_count": 516,
     "metadata": {},
     "output_type": "execute_result"
    }
   ],
   "source": [
    "test_sub.visitors.max()"
   ]
  },
  {
   "cell_type": "code",
   "execution_count": 519,
   "metadata": {
    "collapsed": true
   },
   "outputs": [],
   "source": [
    "test_sub.to_csv('subs/test_sub.csv', index=False)"
   ]
  },
  {
   "cell_type": "code",
   "execution_count": null,
   "metadata": {
    "collapsed": true
   },
   "outputs": [],
   "source": []
  },
  {
   "cell_type": "code",
   "execution_count": null,
   "metadata": {
    "collapsed": true
   },
   "outputs": [],
   "source": []
  },
  {
   "cell_type": "code",
   "execution_count": null,
   "metadata": {
    "collapsed": true
   },
   "outputs": [],
   "source": []
  },
  {
   "cell_type": "code",
   "execution_count": null,
   "metadata": {
    "collapsed": true
   },
   "outputs": [],
   "source": []
  },
  {
   "cell_type": "markdown",
   "metadata": {},
   "source": [
    "### Xgboost"
   ]
  },
  {
   "cell_type": "code",
   "execution_count": 8,
   "metadata": {
    "_cell_guid": "ca9d0e63-bc53-4404-9f16-7a942fc2b15f",
    "_uuid": "71d364f32c23f54fa67a3493ba034797465ea1eb",
    "collapsed": true
   },
   "outputs": [
    {
     "name": "stdout",
     "output_type": "stream",
     "text": [
      "Training ...\n",
      "[0]\ttrain-rmse:2.35534\tvalid-rmse:2.31562\n",
      "Multiple eval metrics have been passed: 'valid-rmse' will be used for early stopping.\n",
      "\n",
      "Will train until valid-rmse hasn't improved in 100 rounds.\n",
      "[10]\ttrain-rmse:1.61274\tvalid-rmse:1.58588\n",
      "[20]\ttrain-rmse:1.13862\tvalid-rmse:1.11997\n",
      "[30]\ttrain-rmse:0.847654\tvalid-rmse:0.834314\n",
      "[40]\ttrain-rmse:0.679493\tvalid-rmse:0.669518\n",
      "[50]\ttrain-rmse:0.589134\tvalid-rmse:0.581203\n",
      "[60]\ttrain-rmse:0.54344\tvalid-rmse:0.536897\n",
      "[70]\ttrain-rmse:0.521047\tvalid-rmse:0.515492\n",
      "[80]\ttrain-rmse:0.509896\tvalid-rmse:0.505626\n",
      "[90]\ttrain-rmse:0.504195\tvalid-rmse:0.500875\n",
      "[100]\ttrain-rmse:0.500954\tvalid-rmse:0.498529\n",
      "[110]\ttrain-rmse:0.498898\tvalid-rmse:0.497515\n",
      "[120]\ttrain-rmse:0.497411\tvalid-rmse:0.496977\n",
      "[130]\ttrain-rmse:0.496204\tvalid-rmse:0.496676\n",
      "[140]\ttrain-rmse:0.495236\tvalid-rmse:0.496553\n",
      "[150]\ttrain-rmse:0.494377\tvalid-rmse:0.49644\n",
      "[160]\ttrain-rmse:0.493569\tvalid-rmse:0.496363\n",
      "[170]\ttrain-rmse:0.492756\tvalid-rmse:0.496308\n",
      "[180]\ttrain-rmse:0.492141\tvalid-rmse:0.496291\n",
      "[190]\ttrain-rmse:0.491413\tvalid-rmse:0.496215\n",
      "[200]\ttrain-rmse:0.490997\tvalid-rmse:0.49621\n",
      "[210]\ttrain-rmse:0.490461\tvalid-rmse:0.496254\n",
      "[220]\ttrain-rmse:0.4899\tvalid-rmse:0.496259\n",
      "[230]\ttrain-rmse:0.489348\tvalid-rmse:0.496304\n",
      "[240]\ttrain-rmse:0.488707\tvalid-rmse:0.496347\n",
      "[250]\ttrain-rmse:0.488228\tvalid-rmse:0.496398\n",
      "[260]\ttrain-rmse:0.487775\tvalid-rmse:0.496457\n",
      "[270]\ttrain-rmse:0.487392\tvalid-rmse:0.496526\n",
      "[280]\ttrain-rmse:0.487036\tvalid-rmse:0.496627\n",
      "[290]\ttrain-rmse:0.48668\tvalid-rmse:0.496702\n",
      "[300]\ttrain-rmse:0.486198\tvalid-rmse:0.496862\n",
      "Stopping. Best iteration:\n",
      "[204]\ttrain-rmse:0.490832\tvalid-rmse:0.496194\n",
      "\n"
     ]
    }
   ],
   "source": [
    "print('Building DMatrix...')\n",
    "\n",
    "d_train = xgb.DMatrix(x_train, label=y_train)\n",
    "d_valid = xgb.DMatrix(x_valid, label=y_valid)\n",
    "\n",
    "del x_train, x_valid; gc.collect()\n",
    "print('Training ...')\n",
    "\n",
    "params = {}\n",
    "params['objective'] = 'reg:linear'\n",
    "params['eval_metric'] = 'rmse'\n",
    "params['eta'] = 0.04\n",
    "params['max_depth'] = 7\n",
    "params['silent'] = 1\n",
    "\n",
    "watchlist = [(d_train, 'train'), (d_valid, 'valid')]\n",
    "clf = xgb.train(params, d_train, 10000, watchlist, early_stopping_rounds=100, verbose_eval=10)\n",
    "\n",
    "del d_train, d_valid"
   ]
  },
  {
   "cell_type": "code",
   "execution_count": 9,
   "metadata": {
    "_cell_guid": "6eb138f7-7799-4b91-8f84-d4794c62d29d",
    "_uuid": "18920ab6ed9b6f21a0727a62fdfe449b454b9ec9",
    "collapsed": true
   },
   "outputs": [
    {
     "data": {
      "text/plain": [
       "21"
      ]
     },
     "execution_count": 9,
     "metadata": {},
     "output_type": "execute_result"
    }
   ],
   "source": [
    "x_test = test.drop(['id','air_store_id','visit_date','visitors'], axis=1)\n",
    "d_test = xgb.DMatrix(x_test)\n",
    "\n",
    "del x_test; gc.collect()"
   ]
  },
  {
   "cell_type": "code",
   "execution_count": 10,
   "metadata": {
    "_cell_guid": "5ef9d346-9b59-47eb-8479-f7fd2b9663b5",
    "_uuid": "85cb639e7703fd1a9d26df16663a7363928dbcb7",
    "collapsed": true
   },
   "outputs": [
    {
     "name": "stdout",
     "output_type": "stream",
     "text": [
      "Predicting on test ...\n"
     ]
    },
    {
     "data": {
      "text/plain": [
       "0"
      ]
     },
     "execution_count": 10,
     "metadata": {},
     "output_type": "execute_result"
    }
   ],
   "source": [
    "print('Predicting on test ...')\n",
    "\n",
    "p_test = clf.predict(d_test)\n",
    "\n",
    "del d_test; gc.collect()"
   ]
  },
  {
   "cell_type": "code",
   "execution_count": 11,
   "metadata": {
    "_cell_guid": "b227451c-ba5a-4b10-b44a-59068fe75b11",
    "_uuid": "ea02ffa57d774eb4f8bb6196f24d4c8f63f14cce",
    "collapsed": true
   },
   "outputs": [
    {
     "data": {
      "text/plain": [
       "array([  1.97033298,  17.76589584,  21.62026978, ...,   3.60183239,\n",
       "         3.84982514,   3.8631916 ], dtype=float32)"
      ]
     },
     "execution_count": 11,
     "metadata": {},
     "output_type": "execute_result"
    }
   ],
   "source": [
    "np.expm1(p_test)"
   ]
  },
  {
   "cell_type": "code",
   "execution_count": 12,
   "metadata": {
    "_cell_guid": "39c6fb62-44f7-41ce-9739-5b02e82b8564",
    "_uuid": "ebeb483b7489f459841dd8fbfc984537299ace01",
    "collapsed": true
   },
   "outputs": [],
   "source": [
    "test['visitors'] = np.expm1(p_test)\n",
    "\n",
    "test[['id','visitors']].to_csv('xgb_submission.csv', index=False, float_format='%.3f')"
   ]
  },
  {
   "cell_type": "markdown",
   "metadata": {},
   "source": [
    "### Random Forest"
   ]
  },
  {
   "cell_type": "code",
   "execution_count": 120,
   "metadata": {
    "collapsed": true
   },
   "outputs": [],
   "source": [
    "def testRf(rf):\n",
    "    rf.fit(x_train, y_train) #note y_train and y_valid have already been logp1 transformed\n",
    "    tr_preds = rf.predict(x_train)\n",
    "    val_preds = rf.predict(x_valid)\n",
    "    tr_rmsle = rmsle(np.expm1(tr_preds), y_train)\n",
    "    val_rmsle = rmsle(np.expm1(val_preds), y_valid)\n",
    "    print('tr loss: {}, val loss: {}'.format(tr_rmsle, val_rmsle))\n",
    "    return rf, pd.DataFrame(rf.feature_importances_, index=x_train.columns.values)"
   ]
  },
  {
   "cell_type": "code",
   "execution_count": 81,
   "metadata": {
    "collapsed": true
   },
   "outputs": [],
   "source": [
    "from sklearn.ensemble import RandomForestRegressor"
   ]
  },
  {
   "cell_type": "code",
   "execution_count": 132,
   "metadata": {
    "collapsed": false
   },
   "outputs": [
    {
     "name": "stdout",
     "output_type": "stream",
     "text": [
      "tr loss: 0.3833395700557639, val loss: 0.5600921271483573\n"
     ]
    },
    {
     "data": {
      "text/plain": [
       "<matplotlib.axes._subplots.AxesSubplot at 0x1dd902b0>"
      ]
     },
     "execution_count": 132,
     "metadata": {},
     "output_type": "execute_result"
    },
    {
     "data": {
      "image/png": "[encoded data removed]",
      "text/plain": [
       "<matplotlib.figure.Figure at 0x1dcdb390>"
      ]
     },
     "metadata": {},
     "output_type": "display_data"
    }
   ],
   "source": [
    "#BASE RF\n",
    "rf = RandomForestRegressor(random_state=SEED)\n",
    "rf, imp = testRf(rf)\n",
    "imp.plot.bar()"
   ]
  },
  {
   "cell_type": "code",
   "execution_count": 133,
   "metadata": {
    "collapsed": false
   },
   "outputs": [
    {
     "name": "stdout",
     "output_type": "stream",
     "text": [
      "tr loss: 0.5220135346256058, val loss: 0.5040344026416708\n"
     ]
    },
    {
     "data": {
      "text/plain": [
       "<matplotlib.axes._subplots.AxesSubplot at 0x20692080>"
      ]
     },
     "execution_count": 133,
     "metadata": {},
     "output_type": "execute_result"
    },
    {
     "data": {
      "image/png": "[encoded data removed]",
      "text/plain": [
       "<matplotlib.figure.Figure at 0x1ddcec18>"
      ]
     },
     "metadata": {},
     "output_type": "display_data"
    }
   ],
   "source": [
    "#OVERFITTING SO LIMIT DEPTH\n",
    "rf = RandomForestRegressor(max_depth=5, random_state=SEED)\n",
    "rf, imp = testRf(rf)"
   ]
  },
  {
   "cell_type": "code",
   "execution_count": 134,
   "metadata": {
    "collapsed": false
   },
   "outputs": [
    {
     "name": "stdout",
     "output_type": "stream",
     "text": [
      "tr loss: 0.5105949961237205, val loss: 0.5049578702737085\n"
     ]
    }
   ],
   "source": [
    "#OVERFITTING SO LIMIT DEPTH\n",
    "rf = RandomForestRegressor(max_depth=8, random_state=SEED)\n",
    "rf, imp = testRf(rf)"
   ]
  }
 ],
 "metadata": {
  "kernelspec": {
   "display_name": "Python 3",
   "language": "python",
   "name": "python3"
  },
  "language_info": {
   "codemirror_mode": {
    "name": "ipython",
    "version": 3
   },
   "file_extension": ".py",
   "mimetype": "text/x-python",
   "name": "python",
   "nbconvert_exporter": "python",
   "pygments_lexer": "ipython3",
   "version": "3.6.0"
  }
 },
 "nbformat": 4,
 "nbformat_minor": 1
}
